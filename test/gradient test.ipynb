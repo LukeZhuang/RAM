{
 "cells": [
  {
   "cell_type": "code",
   "execution_count": 1,
   "metadata": {},
   "outputs": [
    {
     "name": "stderr",
     "output_type": "stream",
     "text": [
      "/opt/conda/lib/python3.6/importlib/_bootstrap.py:219: RuntimeWarning: compiletime version 3.5 of module 'tensorflow.python.framework.fast_tensor_util' does not match runtime version 3.6\n",
      "  return f(*args, **kwds)\n",
      "/opt/conda/lib/python3.6/site-packages/h5py/__init__.py:36: FutureWarning: Conversion of the second argument of issubdtype from `float` to `np.floating` is deprecated. In future, it will be treated as `np.float64 == np.dtype(float).type`.\n",
      "  from ._conv import register_converters as _register_converters\n"
     ]
    }
   ],
   "source": [
    "import tensorflow as tf\n",
    "import numpy as np"
   ]
  },
  {
   "cell_type": "code",
   "execution_count": 48,
   "metadata": {},
   "outputs": [],
   "source": [
    "tf.reset_default_graph()\n",
    "X=tf.placeholder(dtype=tf.float32,shape=[None,5])\n",
    "lnet=tf.layers.Dense(units=2)\n",
    "loc_mean=lnet(X)\n",
    "weights=lnet.kernel\n",
    "bias=lnet.bias\n",
    "this_size=tf.shape(loc_mean)[0]\n",
    "# loc_sample=tf.random_normal(shape=[this_size,2],mean=loc_mean,stddev=1.0)\n",
    "loc_sample=loc_mean+2\n",
    "loc_sample=tf.stop_gradient(loc_sample)\n",
    "gaussian=tf.distributions.Normal(loc=loc_mean,scale=tf.constant([1.0,1.0]))\n",
    "llh=-gaussian.log_prob(loc_sample)\n",
    "llh_sum=tf.reduce_sum(llh)\n",
    "\n",
    "dweights,dloc_mean, dloc_sample = tf.gradients(llh_sum, [weights,loc_mean,loc_sample])\n",
    "\n",
    "# optimizier=tf.train.RMSPropOptimizer(learning_rate=1e-4)\n",
    "# train_step = optimizier.minimize(llh_sum)"
   ]
  },
  {
   "cell_type": "code",
   "execution_count": 49,
   "metadata": {},
   "outputs": [
    {
     "name": "stdout",
     "output_type": "stream",
     "text": [
      "d1: [[-2.        -2.       ]\n",
      " [-2.        -1.9999999]\n",
      " [-2.        -2.       ]\n",
      " [-1.9999999 -2.       ]\n",
      " [-2.        -2.       ]\n",
      " [-2.        -2.       ]\n",
      " [-2.        -2.       ]\n",
      " [-2.        -2.       ]\n",
      " [-2.        -2.       ]\n",
      " [-1.9999999 -2.       ]]\n",
      "d2: [[2.        2.       ]\n",
      " [2.        1.9999999]\n",
      " [2.        2.       ]\n",
      " [1.9999999 2.       ]\n",
      " [2.        2.       ]\n",
      " [2.        2.       ]\n",
      " [2.        2.       ]\n",
      " [2.        2.       ]\n",
      " [2.        2.       ]\n",
      " [1.9999999 2.       ]]\n",
      "dw: [[-1.056278  -1.0562778]\n",
      " [-5.0878887 -5.0878887]\n",
      " [ 5.3223352  5.3223352]\n",
      " [-3.5207472 -3.5207472]\n",
      " [ 1.6619803  1.6619797]]\n"
     ]
    }
   ],
   "source": [
    "with tf.Session() as sess:\n",
    "    tf.global_variables_initializer().run()\n",
    "    value=np.random.randn(10,5)\n",
    "    d1,d2,dw=sess.run([dloc_mean,dloc_sample,dweights],feed_dict={X:value})\n",
    "    print('d1:',d1)\n",
    "    print('d2:',d2)\n",
    "    print('dw:',dw)"
   ]
  },
  {
   "cell_type": "code",
   "execution_count": null,
   "metadata": {},
   "outputs": [],
   "source": []
  }
 ],
 "metadata": {
  "kernelspec": {
   "display_name": "Python 3",
   "language": "python",
   "name": "python3"
  },
  "language_info": {
   "codemirror_mode": {
    "name": "ipython",
    "version": 3
   },
   "file_extension": ".py",
   "mimetype": "text/x-python",
   "name": "python",
   "nbconvert_exporter": "python",
   "pygments_lexer": "ipython3",
   "version": "3.6.4"
  }
 },
 "nbformat": 4,
 "nbformat_minor": 2
}
